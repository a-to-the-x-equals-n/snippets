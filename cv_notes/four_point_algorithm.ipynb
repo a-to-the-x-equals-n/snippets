{
 "cells": [
  {
   "cell_type": "code",
   "execution_count": 5,
   "metadata": {},
   "outputs": [],
   "source": [
    "import numpy as np"
   ]
  },
  {
   "cell_type": "code",
   "execution_count": 6,
   "metadata": {},
   "outputs": [],
   "source": [
    "class Point():\n",
    "    def __init__(self,x,y):\n",
    "        self.x = x\n",
    "        self.y = y\n",
    "\n",
    "def get_homography(s0,s1,s2,s3,t0,t1,t2,t3):\n",
    "    \n",
    "    x0s = s0.x\n",
    "    y0s = s0.y\n",
    "    x0t = t0.x\n",
    "    y0t = t0.y\n",
    "\n",
    "    x1s = s1.x\n",
    "    y1s = s1.y\n",
    "    x1t = t1.x\n",
    "    y1t = t1.y\n",
    "\n",
    "    x2s = s2.x\n",
    "    y2s = s2.y\n",
    "    x2t = t2.x\n",
    "    y2t = t2.y\n",
    "\n",
    "    x3s = s3.x\n",
    "    y3s = s3.y\n",
    "    x3t = t3.x\n",
    "    y3t = t3.y\n",
    "    \n",
    "    #Solve for the homography matrix\n",
    "    A = np.matrix([\n",
    "            [x0s, y0s, 1, 0, 0, 0, -x0t*x0s, -x0t*y0s],\n",
    "            [0, 0, 0, x0s, y0s, 1, -y0t*x0s, -y0t*y0s],\n",
    "            [x1s, y1s, 1, 0, 0, 0, -x1t*x1s, -x1t*y1s],\n",
    "            [0, 0, 0, x1s, y1s, 1, -y1t*x1s, -y1t*y1s],\n",
    "            [x2s, y2s, 1, 0, 0, 0, -x2t*x2s, -x2t*y2s],\n",
    "            [0, 0, 0, x2s, y2s, 1, -y2t*x2s, -y2t*y2s],\n",
    "            [x3s, y3s, 1, 0, 0, 0, -x3t*x3s, -x3t*y3s],\n",
    "            [0, 0, 0, x3s, y3s, 1, -y3t*x3s, -y3t*y3s]\n",
    "        ])\n",
    "    \n",
    "    b = np.matrix([\n",
    "        [x0t],\n",
    "        [y0t],\n",
    "        [x1t],\n",
    "        [y1t],\n",
    "        [x2t],\n",
    "        [y2t],\n",
    "        [x3t],\n",
    "        [y3t]\n",
    "    ])\n",
    "    \n",
    "    h = np.matmul(np.linalg.inv(A),b)\n",
    "    \n",
    "    h = np.append(h, [[1.0]], axis = 0)\n",
    "    \n",
    "    homography = np.reshape(h, (3, 3))\n",
    "    \n",
    "    return homography"
   ]
  },
  {
   "cell_type": "code",
   "execution_count": 9,
   "metadata": {},
   "outputs": [],
   "source": [
    "s0 = Point(0, 0)\n",
    "s1 = Point(100, 0)\n",
    "s2 = Point(100, 100)\n",
    "s3 = Point(0, 100)\n",
    "\n",
    "t0 = Point(245, 152)\n",
    "t1 = Point(349, 150)\n",
    "t2 = Point(349, 253)\n",
    "t3 = Point(246, 261)\n",
    "\n",
    "H = get_homography(s0, s1, s2, s3, t0, t1, t2, t3)"
   ]
  },
  {
   "cell_type": "code",
   "execution_count": 10,
   "metadata": {},
   "outputs": [
    {
     "name": "stdout",
     "output_type": "stream",
     "text": [
      "[[349.]\n",
      " [150.]\n",
      " [  1.]]\n"
     ]
    }
   ],
   "source": [
    "p1 = np.array([[100],\n",
    "               [0],\n",
    "               [1]])\n",
    "\n",
    "p2 = H @ p1\n",
    "print(p2/p2[2])"
   ]
  }
 ],
 "metadata": {
  "kernelspec": {
   "display_name": "Python 3",
   "language": "python",
   "name": "python3"
  },
  "language_info": {
   "codemirror_mode": {
    "name": "ipython",
    "version": 3
   },
   "file_extension": ".py",
   "mimetype": "text/x-python",
   "name": "python",
   "nbconvert_exporter": "python",
   "pygments_lexer": "ipython3",
   "version": "3.10.12"
  }
 },
 "nbformat": 4,
 "nbformat_minor": 2
}
