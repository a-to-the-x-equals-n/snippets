{
 "cells": [
  {
   "cell_type": "code",
   "execution_count": 1,
   "metadata": {},
   "outputs": [],
   "source": [
    "import matplotlib.pyplot as plt\n",
    "import numpy as np"
   ]
  },
  {
   "cell_type": "markdown",
   "metadata": {},
   "source": [
    "`Point`\n",
    "---"
   ]
  },
  {
   "cell_type": "code",
   "execution_count": 8,
   "metadata": {},
   "outputs": [],
   "source": [
    "class Point():\n",
    "    def __init__(self,x,y, v = 0):\n",
    "        self.x = x\n",
    "        self.y = y\n",
    "        self.v = v\n",
    "\n",
    "    def __str__(self):\n",
    "        return \"({},{})\".format(self.x,self.y)\n",
    "    \n",
    "    def __repr__(self):\n",
    "        return self.__str__()\n",
    "\n",
    "\n",
    "def getHomography(s0, s1, s2, s3, t0, t1, t2, t3):\n",
    "\n",
    "    x0s = s0.x\n",
    "    y0s = s0.y\n",
    "    x0t = t0.x\n",
    "    y0t = t0.y\n",
    "\n",
    "    x1s = s1.x\n",
    "    y1s = s1.y\n",
    "    x1t = t1.x\n",
    "    y1t = t1.y\n",
    "\n",
    "    x2s = s2.x\n",
    "    y2s = s2.y\n",
    "    x2t = t2.x\n",
    "    y2t = t2.y\n",
    "\n",
    "    x3s = s3.x\n",
    "    y3s = s3.y\n",
    "    x3t = t3.x\n",
    "    y3t = t3.y\n",
    "\n",
    "    #Solve for the homography matrix\n",
    "    A = np.matrix([\n",
    "            [x0s, y0s, 1, 0, 0, 0, -x0t*x0s, -x0t*y0s],\n",
    "            [0, 0, 0, x0s, y0s, 1, -y0t*x0s, -y0t*y0s],\n",
    "            [x1s, y1s, 1, 0, 0, 0, -x1t*x1s, -x1t*y1s],\n",
    "            [0, 0, 0, x1s, y1s, 1, -y1t*x1s, -y1t*y1s],\n",
    "            [x2s, y2s, 1, 0, 0, 0, -x2t*x2s, -x2t*y2s],\n",
    "            [0, 0, 0, x2s, y2s, 1, -y2t*x2s, -y2t*y2s],\n",
    "            [x3s, y3s, 1, 0, 0, 0, -x3t*x3s, -x3t*y3s],\n",
    "            [0, 0, 0, x3s, y3s, 1, -y3t*x3s, -y3t*y3s]\n",
    "        ])\n",
    "\n",
    "    b = np.matrix([\n",
    "            [x0t],\n",
    "            [y0t],\n",
    "            [x1t],\n",
    "            [y1t],\n",
    "            [x2t],\n",
    "            [y2t],\n",
    "            [x3t],\n",
    "            [y3t]\n",
    "        ])\n",
    "\n",
    "    #The homorgraphy solutions a-h\n",
    "    solutions = np.linalg.solve(A,b)\n",
    "\n",
    "    solutions = np.append(solutions,[[1.0]], axis=0)\n",
    "\n",
    "    #Reshape the homography into the appropriate 3x3 matrix\n",
    "    homography = np.reshape(solutions, (3,3))\n",
    "    \n",
    "    return homography"
   ]
  },
  {
   "cell_type": "markdown",
   "metadata": {},
   "source": [
    "`Interpolation`\n",
    "---"
   ]
  },
  {
   "attachments": {
    "image-2.png": {
     "image/png": "[encoded data removed]"
    }
   },
   "cell_type": "markdown",
   "metadata": {},
   "source": [
    "![image-2.png](attachment:image-2.png)"
   ]
  },
  {
   "cell_type": "markdown",
   "metadata": {},
   "source": [
    "top left = .7  \n",
    "top right = .8  \n",
    "bottom left = 2.6  \n",
    "bottom right = 6.4  \n",
    "x = .25  \n",
    "y = .2"
   ]
  },
  {
   "cell_type": "markdown",
   "metadata": {},
   "source": [
    "`modified bilinear interpolate`"
   ]
  },
  {
   "cell_type": "code",
   "execution_count": 15,
   "metadata": {},
   "outputs": [
    {
     "name": "stdout",
     "output_type": "stream",
     "text": [
      "3.7207999999999997\n"
     ]
    }
   ],
   "source": [
    "def interpolate(x: float, y: float, s00, s10, s01, s11) -> float | int:\n",
    "\n",
    "    # distances/weights between TL pixel and orginal pixel\n",
    "    xw = x - s00.x\n",
    "    yw = y - s00.y\n",
    "\n",
    "    return ( \n",
    "        s00.v * (1 - xw) * (1 - yw) + \n",
    "        s10.v * xw * (1 - yw) + \n",
    "        s01.v * (1 - xw) * yw + \n",
    "        s11.v * xw * yw\n",
    "    )\n",
    "\n",
    "\n",
    "p00, p10, p01, p11 = Point(0, 0, .7), Point(1, 0, 8.1), Point(0, 1, 3.5), Point(1, 1, 6.4)\n",
    "x, y = .32, .48\n",
    "\n",
    "print(interpolate(x, y, p00, p10, p01, p11))"
   ]
  },
  {
   "cell_type": "code",
   "execution_count": null,
   "metadata": {},
   "outputs": [],
   "source": [
    "def interpolate(image: np.ndarray, x: float, y: float) -> float | int:\n",
    "    \n",
    "    h, w, _ = image.shape\n",
    "\n",
    "    # get neighboring points\n",
    "    # clip to w/in bounds if necessary\n",
    "    x0 = max(int(np.floor(x)), 0)\n",
    "    y0 = max(int(np.floor(y)), 0)\n",
    "    x1 = min(x0 + 1, w - 1) \n",
    "    y1 = min(y0 + 1, h - 1)\n",
    "\n",
    "    # distances/weights between TL pixel and orginal pixel\n",
    "    xw = x - x0\n",
    "    yw = y - y0\n",
    "\n",
    "    # neighboring pixel values\n",
    "    p00 = image[y0, x0].astype(np.float32) # TL\n",
    "    p01 = image[y0, x1].astype(np.float32) # TR\n",
    "    p10 = image[y1, x0].astype(np.float32) # BL\n",
    "    p11 = image[y1, x1].astype(np.float32) # BR\n",
    "\n",
    "    return ( \n",
    "        p00 * (1 - xw) * (1 - yw) + \n",
    "        p01 * xw * (1 - yw) + \n",
    "        p10 * (1 - xw) * yw + \n",
    "        p11 * xw * yw\n",
    "    )"
   ]
  }
 ],
 "metadata": {
  "kernelspec": {
   "display_name": "Python 3",
   "language": "python",
   "name": "python3"
  },
  "language_info": {
   "codemirror_mode": {
    "name": "ipython",
    "version": 3
   },
   "file_extension": ".py",
   "mimetype": "text/x-python",
   "name": "python",
   "nbconvert_exporter": "python",
   "pygments_lexer": "ipython3",
   "version": "3.10.12"
  }
 },
 "nbformat": 4,
 "nbformat_minor": 2
}
