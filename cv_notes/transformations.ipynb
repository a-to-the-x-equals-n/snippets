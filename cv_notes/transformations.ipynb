{
 "cells": [
  {
   "cell_type": "code",
   "execution_count": 2,
   "metadata": {},
   "outputs": [],
   "source": [
    "import numpy as np\n"
   ]
  },
  {
   "cell_type": "code",
   "execution_count": 6,
   "metadata": {},
   "outputs": [],
   "source": [
    "p = np.array([[0.1],\n",
    "              [0.3], \n",
    "              [1.0]], dtype = np.float32)\n",
    "\n",
    "scale = 3\n",
    "rotate = np.radians(30)\n",
    "translate = np.array([1, 2])\n",
    "\n",
    "S = np.array([[scale, 0, 0],\n",
    "              [0, scale, 0],\n",
    "              [0, 0, 1]])\n",
    "R = np.array([[np.cos(rotate), -np.sin(rotate), 0],\n",
    "              [np.sin(rotate), np.cos(rotate), 0],\n",
    "              [0, 0, 1]], dtype = np.float32)\n",
    "T = np.array([[1, 0, translate[0]],\n",
    "              [0, 1, translate[1]],\n",
    "              [0, 0, 1]], dtype = np.float32)\n",
    "\n"
   ]
  },
  {
   "cell_type": "markdown",
   "metadata": {},
   "source": [
    "**Translation**"
   ]
  },
  {
   "cell_type": "code",
   "execution_count": 7,
   "metadata": {},
   "outputs": [
    {
     "name": "stdout",
     "output_type": "stream",
     "text": [
      "[[1.1]\n",
      " [2.3]\n",
      " [1. ]]\n"
     ]
    }
   ],
   "source": [
    "print(T @ p)"
   ]
  },
  {
   "cell_type": "markdown",
   "metadata": {},
   "source": [
    "**'TRS' Matrix**"
   ]
  },
  {
   "cell_type": "code",
   "execution_count": 9,
   "metadata": {},
   "outputs": [
    {
     "name": "stdout",
     "output_type": "stream",
     "text": [
      "[[0.8098076 ]\n",
      " [2.92942288]\n",
      " [1.        ]]\n"
     ]
    }
   ],
   "source": [
    "M = T @ R @ S\n",
    "print(M @ p)"
   ]
  }
 ],
 "metadata": {
  "kernelspec": {
   "display_name": "Python 3",
   "language": "python",
   "name": "python3"
  },
  "language_info": {
   "codemirror_mode": {
    "name": "ipython",
    "version": 3
   },
   "file_extension": ".py",
   "mimetype": "text/x-python",
   "name": "python",
   "nbconvert_exporter": "python",
   "pygments_lexer": "ipython3",
   "version": "3.10.12"
  }
 },
 "nbformat": 4,
 "nbformat_minor": 2
}
