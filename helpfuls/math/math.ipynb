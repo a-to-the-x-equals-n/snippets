{
 "cells": [
  {
   "cell_type": "markdown",
   "metadata": {},
   "source": [
    "# `Summation`\n",
    "-----"
   ]
  },
  {
   "cell_type": "code",
   "execution_count": null,
   "metadata": {},
   "outputs": [],
   "source": [
    "from sympy import symbols, summation\n",
    "\n",
    "# Define the variable and expression for the summation\n",
    "k, n = symbols('k n')\n",
    "expression = 4*k + 1\n",
    "\n",
    "# Calculate the summation\n",
    "summation_expr = summation(expression, (k, 0, n))\n",
    "# print(summation_expr.simplify())"
   ]
  },
  {
   "cell_type": "markdown",
   "metadata": {},
   "source": [
    "# `Softmax`\n",
    "----"
   ]
  },
  {
   "cell_type": "code",
   "execution_count": 1,
   "metadata": {},
   "outputs": [
    {
     "name": "stdout",
     "output_type": "stream",
     "text": [
      "6.3\n",
      "0.005047\n",
      "0.000068\n",
      "0.167121\n",
      "0.827756\n",
      "0.000008\n"
     ]
    }
   ],
   "source": [
    "import math\n",
    "\n",
    "# Given output vector\n",
    "outputs = [1.2, -3.1, 4.7, 6.3, -5.2]\n",
    "\n",
    "# Step 1: Find the maximum value\n",
    "max_val = max(outputs)\n",
    "print(max_val)\n",
    "\n",
    "# Step 2: Compute the exponentials after shifting by max_val to avoid overflow\n",
    "exp_values = [math.exp(x - max_val) for x in outputs]\n",
    "\n",
    "# Step 3: Compute the sum of exponentials\n",
    "sum_exp = sum(exp_values)\n",
    "\n",
    "# Step 4: Compute softmax by dividing each exponential by the sum\n",
    "softmax = [val / sum_exp for val in exp_values]\n",
    "\n",
    "# Print the results with 3-decimal formatting\n",
    "for val in softmax:\n",
    "    print(f\"{val:.6f}\")"
   ]
  },
  {
   "cell_type": "markdown",
   "metadata": {},
   "source": [
    "# `Maxima Set`\n",
    "----"
   ]
  },
  {
   "cell_type": "code",
   "execution_count": null,
   "metadata": {},
   "outputs": [],
   "source": [
    "from collections.abc import Sequence\n",
    "\n",
    "def maxima_set(coordinates: Sequence[tuple[int, int]]) -> list[tuple[int, int]]:\n",
    "    \"\"\"\n",
    "    Computes the maxima set of a given set of 2D points.\n",
    "\n",
    "    The maxima set consists of points that are not dominated by any other point.\n",
    "    A point (x1, y1) is dominated by (x2, y2) if:\n",
    "    - x1 <= x2 and y1 <= y2\n",
    "\n",
    "    The function sorts the input lexicographically (by x, then by y), recursively partitions \n",
    "    it, and eliminates dominated points.\n",
    "\n",
    "    Parameters:\n",
    "    -----------\n",
    "    coordinates : Sequence[tuple[int, int]]\n",
    "        A sequence (list or tuple) of 2D points (x, y), where x and y are integers.\n",
    "\n",
    "    Returns:\n",
    "    --------\n",
    "    list[tuple[int, int]]\n",
    "        The maxima set, a list of non-dominated points sorted in lexicographical order.\n",
    "\n",
    "    Example:\n",
    "    --------\n",
    "    >>> maxima_set([(8, 4), (7, 6), (9, 1), (4, 5), (6, 8), (5, 3), (3, 7)])\n",
    "    [(6, 8), (7, 6), (8, 4), (9, 1)]\n",
    "\n",
    "    Complexity:\n",
    "    -----------\n",
    "    - Best case: O(n log n) (due to sorting)\n",
    "    - Worst case: O(n log n) (divide & conquer recursion)\n",
    "    \"\"\" \n",
    "\n",
    "    if not all(isinstance(coord, tuple) and len(coord) == 2 for coord in coordinates):\n",
    "        raise TypeError(\"All elements in 'coordinates' must be tuples of length 2 (x, y).\")\n",
    "\n",
    "    if len(coordinates) <= 1:\n",
    "        return list(coordinates)  # Convert to list for consistency\n",
    "\n",
    "    sorted_coords = sorted(coordinates, key = lambda point: (point[0], point[1]))\n",
    "\n",
    "    mid = len(sorted_coords) // 2\n",
    "\n",
    "    L = sorted_coords[:mid]  # Left half\n",
    "    R = sorted_coords[mid:]  # Right half\n",
    "\n",
    "    M1 = maxima_set(L)\n",
    "    M2 = maxima_set(R)\n",
    "\n",
    "    q = min(M2, key = lambda point: (point[0], point[1]))\n",
    "\n",
    "    M1 = [r for r in M1 if r[0] > q[0] or r[1] > q[1]]\n",
    "\n",
    "    return M1 + M2\n",
    "\n",
    "\n",
    "if __name__ == \"__main__\":\n",
    "    test_cases = [\n",
    "        [(8, 4), (7, 6), (9, 1), (4, 5), (6, 8), (5, 3), (3, 7)],\n",
    "        [(1, 1), (2, 2), (3, 3), (4, 4)],\n",
    "        [(5, 5), (2, 8), (9, 3), (7, 7), (6, 9)],\n",
    "        [(10, 10), (1, 1), (5, 6), (8, 2)],\n",
    "        [(5, 5), [2, 8], (9, 3), (7, 7), (6, 9)],  # Invalid test case (list instead of tuple)\n",
    "    ]\n",
    "\n",
    "    for i, coords in enumerate(test_cases, 1):\n",
    "        try:\n",
    "            maxima = maxima_set(coords)\n",
    "            print(f\"Test {i} : {maxima}\")\n",
    "        except TypeError as e:\n",
    "            print(f\"Test {i} Failed: {e}\")"
   ]
  }
 ],
 "metadata": {
  "kernelspec": {
   "display_name": "Python 3",
   "language": "python",
   "name": "python3"
  },
  "language_info": {
   "codemirror_mode": {
    "name": "ipython",
    "version": 3
   },
   "file_extension": ".py",
   "mimetype": "text/x-python",
   "name": "python",
   "nbconvert_exporter": "python",
   "pygments_lexer": "ipython3",
   "version": "3.10.12"
  }
 },
 "nbformat": 4,
 "nbformat_minor": 2
}
