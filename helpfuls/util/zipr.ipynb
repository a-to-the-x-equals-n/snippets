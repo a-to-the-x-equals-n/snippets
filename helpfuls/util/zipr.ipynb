{
 "cells": [
  {
   "cell_type": "markdown",
   "metadata": {},
   "source": [
    "# `Unzip`\n",
    "----"
   ]
  },
  {
   "cell_type": "code",
   "execution_count": 1,
   "metadata": {},
   "outputs": [
    {
     "name": "stdout",
     "output_type": "stream",
     "text": [
      "Test failed: \"test.zip\" not found. Please create a test ZIP file.\n"
     ]
    }
   ],
   "source": [
    "import zipfile\n",
    "from pathlib import Path\n",
    "from typing import TypeVar\n",
    "\n",
    "T = TypeVar('T', str, Path)\n",
    "\n",
    "def _unzip(zip_path: T, extract_to: T = None) -> None:\n",
    "    '''\n",
    "    Extracts the contents of a ZIP file to a specified directory.\n",
    "\n",
    "    If no extraction directory is provided, it defaults to extracting in the \n",
    "    same directory as the ZIP file.\n",
    "\n",
    "    Parameters:\n",
    "    -----------\n",
    "    zip_path : str\n",
    "        The path to the ZIP file to be extracted.\n",
    "    extract_to : str, optional\n",
    "        The directory where the files should be extracted. If None, extracts \n",
    "        to the same directory as the ZIP file.\n",
    "\n",
    "    Raises:\n",
    "    -------\n",
    "    FileNotFoundError\n",
    "        If the ZIP file does not exist.\n",
    "    zipfile.BadZipFile\n",
    "        If the file is not a valid ZIP archive.\n",
    "    '''\n",
    "    zip_path = Path(zip_path)\n",
    "\n",
    "    if not zip_path.exists():\n",
    "        raise FileNotFoundError(f'ZIP file not found: {zip_path}')\n",
    "\n",
    "    extract_to = Path(extract_to) if extract_to else zip_path.parent\n",
    "\n",
    "    with zipfile.ZipFile(zip_path, 'r') as zip_ref:\n",
    "        zip_ref.extractall(extract_to)\n",
    "\n",
    "    print(f\"Extracted '{zip_path.name}' to '{extract_to}'\")\n",
    "\n",
    "\n",
    "if __name__ == '__main__':\n",
    "    # Example test case for running the script directly\n",
    "    test_zip = 'test.zip'\n",
    "    test_output = 'output_folder'\n",
    "\n",
    "    try:\n",
    "        _unzip(test_zip, test_output)\n",
    "    except FileNotFoundError:\n",
    "        print(f'Test failed: \"{test_zip}\" not found. Please create a test ZIP file.')\n",
    "    except zipfile.BadZipFile:\n",
    "        print(f'Test failed: \"{test_zip}\" is not a valid ZIP file.')"
   ]
  }
 ],
 "metadata": {
  "kernelspec": {
   "display_name": "Python 3",
   "language": "python",
   "name": "python3"
  },
  "language_info": {
   "codemirror_mode": {
    "name": "ipython",
    "version": 3
   },
   "file_extension": ".py",
   "mimetype": "text/x-python",
   "name": "python",
   "nbconvert_exporter": "python",
   "pygments_lexer": "ipython3",
   "version": "3.10.12"
  }
 },
 "nbformat": 4,
 "nbformat_minor": 2
}
