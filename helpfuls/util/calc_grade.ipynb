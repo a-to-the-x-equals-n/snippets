{
 "cells": [
  {
   "cell_type": "code",
   "execution_count": 3,
   "metadata": {},
   "outputs": [
    {
     "name": "stdout",
     "output_type": "stream",
     "text": [
      "Potential Final Grade: 0.72%\n"
     ]
    }
   ],
   "source": [
    "def calculate_final_grade(assignments, midterms):\n",
    "    \"\"\"\n",
    "    Calculate the potential final grade based on assignment and midterm scores.\n",
    "\n",
    "    Parameters:\n",
    "    assignments (list of int): Scores for 7 assignments (each out of 50).\n",
    "    midterms (list of int): Scores for 2 midterms (each out of 50).\n",
    "\n",
    "    Returns:\n",
    "    float: Final grade as a percentage.\n",
    "    \"\"\"\n",
    "    total_possible = 890  # 7 assignments + 2 midterms, each worth 50 points\n",
    "    total_earned = sum(assignments) + sum(midterms)\n",
    "    \n",
    "    final_percentage = (total_earned / total_possible) * 100\n",
    "    return final_percentage\n",
    "\n",
    "# Example usage:\n",
    "assignments = [70/100, 70/100, 90/100, 90/100, 90/100, 90/100]  # Replace with your theoretical scores\n",
    "midterms = [44/90, 80/90]  # Replace with your theoretical midterm scores\n",
    "\n",
    "final_grade = calculate_final_grade(assignments, midterms)\n",
    "print(f\"Potential Final Grade: {final_grade:.2f}%\")\n"
   ]
  }
 ],
 "metadata": {
  "kernelspec": {
   "display_name": "Python 3",
   "language": "python",
   "name": "python3"
  },
  "language_info": {
   "codemirror_mode": {
    "name": "ipython",
    "version": 3
   },
   "file_extension": ".py",
   "mimetype": "text/x-python",
   "name": "python",
   "nbconvert_exporter": "python",
   "pygments_lexer": "ipython3",
   "version": "3.10.12"
  }
 },
 "nbformat": 4,
 "nbformat_minor": 2
}
