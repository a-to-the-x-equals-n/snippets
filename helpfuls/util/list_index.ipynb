{
 "cells": [
  {
   "cell_type": "markdown",
   "metadata": {},
   "source": [
    "### <span style=\"color:#00BE67;\">__Mathematically Determine Index/Result__</span>"
   ]
  },
  {
   "cell_type": "markdown",
   "metadata": {},
   "source": [
    "##### <span style=\"color:#2DE2E6;\">__Syntax__</span> "
   ]
  },
  {
   "cell_type": "markdown",
   "metadata": {},
   "source": [
    "```python\n",
    "return sequence[max(0, (value - X) // Y)]\n",
    "```"
   ]
  },
  {
   "cell_type": "markdown",
   "metadata": {},
   "source": [
    "##### <span style=\"color:#2DE2E6;\">__X and Y__</span> "
   ]
  },
  {
   "cell_type": "markdown",
   "metadata": {},
   "source": [
    "__X = Minimum threshold (lowest mapped value)__\n",
    "- If you want 0 to map to the lowest category, X = 0.\n",
    "- If you want 50 to be the lowest mapped, X = 50.\n",
    "\n",
    "__Y = (Range to cover) ÷ (Number of categories)__\n",
    "- If you have a score from 50 to 100 and 5 categories → Step size Y = 10.\n",
    "- If you have a scale from 0 to 100 and 4 categories → Step size Y = 25."
   ]
  },
  {
   "cell_type": "markdown",
   "metadata": {},
   "source": [
    "#### <span style=\"color:#2DE2E6;\">__Determine X and Y__</span> "
   ]
  },
  {
   "cell_type": "markdown",
   "metadata": {},
   "source": [
    "Decide your categories → Count the number of slots (`N)` in your list.  \n",
    "Find `X` (the base shift) → What’s the lowest value that should start the scale?  \n",
    "Find `Y` (step size):\n",
    "\n",
    "```python\n",
    "Y = (max value - X) // (N - 1)\n",
    "```\n",
    "\n",
    "`(max value - X)` → The range you want to cover.  \n",
    "`(N - 1)` → The number of divisions between categories.\n"
   ]
  }
 ],
 "metadata": {
  "kernelspec": {
   "display_name": "Python 3",
   "language": "python",
   "name": "python3"
  },
  "language_info": {
   "name": "python",
   "version": "3.10.12"
  }
 },
 "nbformat": 4,
 "nbformat_minor": 2
}
