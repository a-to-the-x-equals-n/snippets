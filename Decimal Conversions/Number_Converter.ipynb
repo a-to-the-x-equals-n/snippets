{
 "cells": [
  {
   "cell_type": "code",
   "execution_count": 2,
   "metadata": {},
   "outputs": [],
   "source": [
    "import string"
   ]
  },
  {
   "cell_type": "markdown",
   "metadata": {},
   "source": [
    "# Program Overview\n",
    "*This program converts any arrangement of hexadecimal, decimal, or binary to the desired numerical notation*"
   ]
  },
  {
   "cell_type": "markdown",
   "metadata": {},
   "source": [
    "### Load Libraries\n",
    "\n",
    "*Generates libraries of* **KEY VALUE** *pairs between hexadecimal and decimal values*\n",
    "\n",
    "*These libraries are used as a quick and easy alternatives to the intensive recursive methods of mathematically converting decimal to hexadecimal, and vice versa*"
   ]
  },
  {
   "cell_type": "code",
   "execution_count": 21,
   "metadata": {},
   "outputs": [],
   "source": [
    "\n",
    "# Creates a dictionary of KEY VALUE pairs\n",
    "def generateLibraries():          \n",
    "\n",
    "    # generates the decimals 0 - 15 as a list\n",
    "    decimals_0_to_15 = str([i for i in range(16)])                \n",
    "\n",
    "    # splices 0 - 9 from 'decimals_0_to_15' and a - f from the alphabet\n",
    "    # concatenates the two lists together to form the base hexadecimal number system\n",
    "    hexadecimals = decimals_0_to_15[0:10] + string.ascii_uppercase[:5]\n",
    "\n",
    "    # zips the decimal and hexadecimal lists together into a dictionary\n",
    "    deci_hex_dictionary = dict(zip(decimals_0_to_15, hexadecimals))\n",
    "\n",
    "    # zips the hexadecimal and decimal lists together into a dictionary\n",
    "    hex_deci_dictionary = dict(zip(hexadecimals, decimals_0_to_15))\n",
    "\n",
    "    return deci_hex_dictionary, hex_deci_dictionary\n",
    "\n",
    "\n",
    "\n",
    "deci_keys, hex_keys = generateLibraries() \n"
   ]
  },
  {
   "cell_type": "markdown",
   "metadata": {},
   "source": [
    "### Number Conversion and Output"
   ]
  },
  {
   "cell_type": "markdown",
   "metadata": {},
   "source": [
    "*Decimal to Hexadecimal*"
   ]
  },
  {
   "cell_type": "code",
   "execution_count": 22,
   "metadata": {},
   "outputs": [],
   "source": [
    "# prints the converted hexadecimal number\n",
    "def deci_to_hex_display(decimal):\n",
    "\n",
    "    print(deci_to_hex_convert(str(decimal)))\n",
    "\n",
    "\n",
    "\n",
    "# converts decimal to a hexadecimal\n",
    "def deci_to_hex_convert(decimal):\n",
    "\n",
    "    # BASE CASE : if 'decimal' is None or empty, end recursive loop\n",
    "    if not decimal:\n",
    "        return \"\"\n",
    "\n",
    "    # uses the 'deci_hex_dictionary' dictionary to convert the decimal value to hexadecimal value\n",
    "    return deci_keys[decimal[:1]] + deci_to_hex_convert(decimal[1:])"
   ]
  },
  {
   "cell_type": "markdown",
   "metadata": {},
   "source": [
    "*Decimal to Binary*"
   ]
  },
  {
   "cell_type": "code",
   "execution_count": 6,
   "metadata": {},
   "outputs": [],
   "source": [
    "# prints the converted binary number\n",
    "def deci_to_bin_display(decimal):\n",
    "\n",
    "    # removes the binary prefix '0b'\n",
    "    binary = bin(decimal)[2:]\n",
    "\n",
    "    # for easier readability of binary digits\n",
    "    return print(readable_binary(binary))\n",
    "\n",
    "\n",
    "\n",
    "def readable_binary(binary):\n",
    "\n",
    "    #BASE CASE : if the remaining size of binary is less than 5 digits\n",
    "    if len(binary) < 5:\n",
    "        return binary\n",
    "    \n",
    "    # starting from the right, whitespace is inserted after every fourth bit\n",
    "    return readable_binary(binary[:-4]) + ' ' + binary[len(binary) - 4:]\n",
    "        "
   ]
  },
  {
   "cell_type": "markdown",
   "metadata": {},
   "source": [
    "*Hexadecimal to Decimal*"
   ]
  },
  {
   "cell_type": "code",
   "execution_count": 23,
   "metadata": {},
   "outputs": [],
   "source": [
    "# prints the converted decimal number\n",
    "def hex_to_deci_display(hexadecimal):\n",
    "\n",
    "    print(hex_to_deci_convert(str(hexadecimal)))\n",
    "\n",
    "\n",
    "\n",
    "# converts decimal to a hexadecimal\n",
    "def hex_to_deci_convert(hexadecimal):\n",
    "\n",
    "    # BASE CASE : if 'hexadecimal' is None or empty, end recursive loop\n",
    "    if not hexadecimal:\n",
    "        return \"\"\n",
    "\n",
    "    # uses the 'hex_to_deci_convert' dictionary to convert the hexadecimal value to a decimal value\n",
    "    return hex_keys[hexadecimal[:1]] + hex_to_deci_convert(hexadecimal[1:])"
   ]
  },
  {
   "cell_type": "markdown",
   "metadata": {},
   "source": [
    "*Binary to Decimal*"
   ]
  },
  {
   "cell_type": "code",
   "execution_count": 8,
   "metadata": {},
   "outputs": [],
   "source": [
    "# prints the converted decimal number\n",
    "def bin_to_deci_display(binary):\n",
    "\n",
    "    decimal = int(str(binary), 2)\n",
    "\n",
    "    return print(readable_decimal(str(decimal)))\n",
    "\n",
    "\n",
    "\n",
    "def readable_decimal(decimal):\n",
    "\n",
    "    #BASE CASE : if the remaining size of decimal is less than 4 digits\n",
    "    if len(decimal) < 4:\n",
    "        return decimal\n",
    "    \n",
    "    # starting from the right, whitespace is inserted after every fourth bit\n",
    "    return readable_decimal(decimal[:-3]) + ',' + decimal[len(decimal) - 3:]\n",
    "        \n"
   ]
  },
  {
   "cell_type": "markdown",
   "metadata": {},
   "source": [
    "## Main : User Interface"
   ]
  },
  {
   "cell_type": "code",
   "execution_count": 26,
   "metadata": {},
   "outputs": [],
   "source": [
    "input = int(\"8195\")\n",
    "\n",
    "# print(f'{int(input, 16)}')"
   ]
  },
  {
   "cell_type": "code",
   "execution_count": 27,
   "metadata": {},
   "outputs": [
    {
     "ename": "KeyError",
     "evalue": "'8'",
     "output_type": "error",
     "traceback": [
      "\u001b[1;31m---------------------------------------------------------------------------\u001b[0m",
      "\u001b[1;31mKeyError\u001b[0m                                  Traceback (most recent call last)",
      "Cell \u001b[1;32mIn[27], line 1\u001b[0m\n\u001b[1;32m----> 1\u001b[0m \u001b[43mdeci_to_hex_display\u001b[49m\u001b[43m(\u001b[49m\u001b[38;5;28;43minput\u001b[39;49m\u001b[43m)\u001b[49m\n",
      "Cell \u001b[1;32mIn[22], line 4\u001b[0m, in \u001b[0;36mdeci_to_hex_display\u001b[1;34m(decimal)\u001b[0m\n\u001b[0;32m      2\u001b[0m \u001b[38;5;28;01mdef\u001b[39;00m \u001b[38;5;21mdeci_to_hex_display\u001b[39m(decimal):\n\u001b[1;32m----> 4\u001b[0m     \u001b[38;5;28mprint\u001b[39m(\u001b[43mdeci_to_hex_convert\u001b[49m\u001b[43m(\u001b[49m\u001b[38;5;28;43mstr\u001b[39;49m\u001b[43m(\u001b[49m\u001b[43mdecimal\u001b[49m\u001b[43m)\u001b[49m\u001b[43m)\u001b[49m)\n",
      "Cell \u001b[1;32mIn[22], line 16\u001b[0m, in \u001b[0;36mdeci_to_hex_convert\u001b[1;34m(decimal)\u001b[0m\n\u001b[0;32m     13\u001b[0m     \u001b[38;5;28;01mreturn\u001b[39;00m \u001b[38;5;124m\"\u001b[39m\u001b[38;5;124m\"\u001b[39m\n\u001b[0;32m     15\u001b[0m \u001b[38;5;66;03m# uses the 'deci_hex_dictionary' dictionary to convert the decimal value to hexadecimal value\u001b[39;00m\n\u001b[1;32m---> 16\u001b[0m \u001b[38;5;28;01mreturn\u001b[39;00m \u001b[43mdeci_keys\u001b[49m\u001b[43m[\u001b[49m\u001b[43mdecimal\u001b[49m\u001b[43m[\u001b[49m\u001b[43m:\u001b[49m\u001b[38;5;241;43m1\u001b[39;49m\u001b[43m]\u001b[49m\u001b[43m]\u001b[49m \u001b[38;5;241m+\u001b[39m deci_to_hex_convert(decimal[\u001b[38;5;241m1\u001b[39m:])\n",
      "\u001b[1;31mKeyError\u001b[0m: '8'"
     ]
    }
   ],
   "source": [
    "\n",
    "deci_to_hex_display(input)"
   ]
  },
  {
   "cell_type": "code",
   "execution_count": 11,
   "metadata": {},
   "outputs": [
    {
     "name": "stdout",
     "output_type": "stream",
     "text": [
      "192\n"
     ]
    }
   ],
   "source": [
    "\n",
    "bin_to_deci_display(input)"
   ]
  },
  {
   "cell_type": "code",
   "execution_count": 6,
   "metadata": {},
   "outputs": [
    {
     "name": "stdout",
     "output_type": "stream",
     "text": [
      "1100 1111\n"
     ]
    }
   ],
   "source": [
    "deci_to_bin_display(input)"
   ]
  },
  {
   "cell_type": "code",
   "execution_count": 9,
   "metadata": {},
   "outputs": [
    {
     "ename": "KeyError",
     "evalue": "'3'",
     "output_type": "error",
     "traceback": [
      "\u001b[1;31m---------------------------------------------------------------------------\u001b[0m",
      "\u001b[1;31mKeyError\u001b[0m                                  Traceback (most recent call last)",
      "Cell \u001b[1;32mIn[9], line 1\u001b[0m\n\u001b[1;32m----> 1\u001b[0m \u001b[43mhex_to_deci_display\u001b[49m\u001b[43m(\u001b[49m\u001b[38;5;28;43minput\u001b[39;49m\u001b[43m)\u001b[49m\n",
      "Cell \u001b[1;32mIn[7], line 4\u001b[0m, in \u001b[0;36mhex_to_deci_display\u001b[1;34m(hexadecimal)\u001b[0m\n\u001b[0;32m      2\u001b[0m \u001b[38;5;28;01mdef\u001b[39;00m \u001b[38;5;21mhex_to_deci_display\u001b[39m(hexadecimal):\n\u001b[1;32m----> 4\u001b[0m     \u001b[38;5;28mprint\u001b[39m(\u001b[43mhex_to_deci_convert\u001b[49m\u001b[43m(\u001b[49m\u001b[38;5;28;43mstr\u001b[39;49m\u001b[43m(\u001b[49m\u001b[43mhexadecimal\u001b[49m\u001b[43m)\u001b[49m\u001b[43m)\u001b[49m)\n",
      "Cell \u001b[1;32mIn[7], line 16\u001b[0m, in \u001b[0;36mhex_to_deci_convert\u001b[1;34m(hexadecimal)\u001b[0m\n\u001b[0;32m     13\u001b[0m     \u001b[38;5;28;01mreturn\u001b[39;00m \u001b[38;5;124m\"\u001b[39m\u001b[38;5;124m\"\u001b[39m\n\u001b[0;32m     15\u001b[0m \u001b[38;5;66;03m# uses the 'hex_to_deci_convert' dictionary to convert the hexadecimal value to a decimal value\u001b[39;00m\n\u001b[1;32m---> 16\u001b[0m \u001b[38;5;28;01mreturn\u001b[39;00m hex_keys[hexadecimal[:\u001b[38;5;241m1\u001b[39m]] \u001b[38;5;241m+\u001b[39m \u001b[43mhex_to_deci_convert\u001b[49m\u001b[43m(\u001b[49m\u001b[43mhexadecimal\u001b[49m\u001b[43m[\u001b[49m\u001b[38;5;241;43m1\u001b[39;49m\u001b[43m:\u001b[49m\u001b[43m]\u001b[49m\u001b[43m)\u001b[49m\n",
      "Cell \u001b[1;32mIn[7], line 16\u001b[0m, in \u001b[0;36mhex_to_deci_convert\u001b[1;34m(hexadecimal)\u001b[0m\n\u001b[0;32m     13\u001b[0m     \u001b[38;5;28;01mreturn\u001b[39;00m \u001b[38;5;124m\"\u001b[39m\u001b[38;5;124m\"\u001b[39m\n\u001b[0;32m     15\u001b[0m \u001b[38;5;66;03m# uses the 'hex_to_deci_convert' dictionary to convert the hexadecimal value to a decimal value\u001b[39;00m\n\u001b[1;32m---> 16\u001b[0m \u001b[38;5;28;01mreturn\u001b[39;00m hex_keys[hexadecimal[:\u001b[38;5;241m1\u001b[39m]] \u001b[38;5;241m+\u001b[39m \u001b[43mhex_to_deci_convert\u001b[49m\u001b[43m(\u001b[49m\u001b[43mhexadecimal\u001b[49m\u001b[43m[\u001b[49m\u001b[38;5;241;43m1\u001b[39;49m\u001b[43m:\u001b[49m\u001b[43m]\u001b[49m\u001b[43m)\u001b[49m\n",
      "    \u001b[1;31m[... skipping similar frames: hex_to_deci_convert at line 16 (1 times)]\u001b[0m\n",
      "Cell \u001b[1;32mIn[7], line 16\u001b[0m, in \u001b[0;36mhex_to_deci_convert\u001b[1;34m(hexadecimal)\u001b[0m\n\u001b[0;32m     13\u001b[0m     \u001b[38;5;28;01mreturn\u001b[39;00m \u001b[38;5;124m\"\u001b[39m\u001b[38;5;124m\"\u001b[39m\n\u001b[0;32m     15\u001b[0m \u001b[38;5;66;03m# uses the 'hex_to_deci_convert' dictionary to convert the hexadecimal value to a decimal value\u001b[39;00m\n\u001b[1;32m---> 16\u001b[0m \u001b[38;5;28;01mreturn\u001b[39;00m \u001b[43mhex_keys\u001b[49m\u001b[43m[\u001b[49m\u001b[43mhexadecimal\u001b[49m\u001b[43m[\u001b[49m\u001b[43m:\u001b[49m\u001b[38;5;241;43m1\u001b[39;49m\u001b[43m]\u001b[49m\u001b[43m]\u001b[49m \u001b[38;5;241m+\u001b[39m hex_to_deci_convert(hexadecimal[\u001b[38;5;241m1\u001b[39m:])\n",
      "\u001b[1;31mKeyError\u001b[0m: '3'"
     ]
    }
   ],
   "source": [
    "hex_to_deci_display(input)"
   ]
  }
 ],
 "metadata": {
  "kernelspec": {
   "display_name": "Python 3",
   "language": "python",
   "name": "python3"
  },
  "language_info": {
   "codemirror_mode": {
    "name": "ipython",
    "version": 3
   },
   "file_extension": ".py",
   "mimetype": "text/x-python",
   "name": "python",
   "nbconvert_exporter": "python",
   "pygments_lexer": "ipython3",
   "version": "3.12.0"
  }
 },
 "nbformat": 4,
 "nbformat_minor": 2
}
