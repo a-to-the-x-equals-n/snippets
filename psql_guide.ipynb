{
 "cells": [
  {
   "cell_type": "markdown",
   "metadata": {},
   "source": [
    "# `PostgreSQL Guide`\n",
    "---"
   ]
  },
  {
   "cell_type": "markdown",
   "metadata": {},
   "source": [
    "## `Services`"
   ]
  },
  {
   "cell_type": "markdown",
   "metadata": {},
   "source": [
    "### `Start`"
   ]
  },
  {
   "cell_type": "markdown",
   "metadata": {},
   "source": [
    "```bash\n",
    "sudo service postgresql start\n",
    "```"
   ]
  },
  {
   "cell_type": "markdown",
   "metadata": {},
   "source": [
    "### `Stop`"
   ]
  },
  {
   "cell_type": "markdown",
   "metadata": {},
   "source": [
    "```bash\n",
    "sudo service postgresql stop\n",
    "```"
   ]
  },
  {
   "cell_type": "markdown",
   "metadata": {},
   "source": [
    "### `Status`"
   ]
  },
  {
   "cell_type": "markdown",
   "metadata": {},
   "source": [
    "```bash\n",
    "sudo service postgresql status\n",
    "```"
   ]
  },
  {
   "cell_type": "markdown",
   "metadata": {},
   "source": [
    "### `Restart`"
   ]
  },
  {
   "cell_type": "markdown",
   "metadata": {},
   "source": [
    "```bash\n",
    "sudo service postgresql restart\n",
    "```"
   ]
  },
  {
   "cell_type": "markdown",
   "metadata": {},
   "source": [
    "---"
   ]
  },
  {
   "cell_type": "markdown",
   "metadata": {},
   "source": [
    "## `Users`"
   ]
  },
  {
   "cell_type": "markdown",
   "metadata": {},
   "source": [
    "### `PostgreSQL User`"
   ]
  },
  {
   "cell_type": "markdown",
   "metadata": {},
   "source": [
    "`Login`\n",
    "```bash\n",
    "sudo -i -u postgres\n",
    "```"
   ]
  },
  {
   "cell_type": "markdown",
   "metadata": {},
   "source": [
    "`Add Password to Admin User`\n",
    "\n",
    "```bash\n",
    "# Switch to query language syntax\n",
    "psql\n",
    "```\n",
    "```SQL\n",
    "-- use SQL to add password\n",
    "ALTER USER postgres PASSWORD 'your_secure_password';\n",
    "```\n",
    "```SQL\n",
    "-- quit psql\n",
    "\\q\n",
    "```\n",
    "```bash\n",
    "# exit postgres user\n",
    "exit\n",
    "```"
   ]
  },
  {
   "cell_type": "markdown",
   "metadata": {},
   "source": [
    "`Create User as postgres Admin`\n",
    "\n",
    "```bash\n",
    "# It will prompt a new user name and if the user should be a superuser\n",
    "createuser --interactive\n",
    "```"
   ]
  },
  {
   "cell_type": "markdown",
   "metadata": {},
   "source": [
    "`Set password for user as Admin`\n",
    "\n",
    "```bash\n",
    "# Switch to query language syntax\n",
    "psql\n",
    "```\n",
    "```SQL\n",
    "-- use SQL to add password\n",
    "ALTER USER new_user PASSWORD 'your_secure_password';\n",
    "```\n",
    "```SQL\n",
    "-- quit psql\n",
    "\\q\n",
    "```\n",
    "```bash\n",
    "# exit postgres user\n",
    "exit\n",
    "```"
   ]
  },
  {
   "cell_type": "markdown",
   "metadata": {},
   "source": [
    "### `Grant Privileges`"
   ]
  },
  {
   "cell_type": "markdown",
   "metadata": {},
   "source": [
    "```SQL\n",
    "GRANT ALL PRIVILEGES ON DATABASE database_name TO new_user;\n",
    "```"
   ]
  },
  {
   "cell_type": "markdown",
   "metadata": {},
   "source": [
    "---"
   ]
  },
  {
   "cell_type": "markdown",
   "metadata": {},
   "source": [
    "## `Configuration Files`"
   ]
  },
  {
   "cell_type": "markdown",
   "metadata": {},
   "source": [
    "### `Hosting`"
   ]
  },
  {
   "cell_type": "markdown",
   "metadata": {},
   "source": [
    "`Remote Connections`\n",
    "\n",
    "```bash\n",
    "# open and edit config file w/ Vim\n",
    "sudo nano /etc/postgresql/14/main/postgresql.conf\n",
    "```\n",
    "```ini\n",
    "# In the config file, find and edit this line\n",
    "# adjust as needed\n",
    "listen_addresses = 'localhost'\n",
    "```"
   ]
  },
  {
   "cell_type": "markdown",
   "metadata": {},
   "source": [
    "```ini\n",
    "# This example allows listening to all IP addresses\n",
    "listen_addresses = '*'\n",
    "# or\n",
    "listen_addresses = '0.0.0.0'\n",
    "```"
   ]
  },
  {
   "cell_type": "markdown",
   "metadata": {},
   "source": [
    "Save changes (`CTRL+X`, `Y`, `Enter`)"
   ]
  },
  {
   "cell_type": "markdown",
   "metadata": {},
   "source": [
    "```bash\n",
    "# restart psql\n",
    "sudo service postgresql restart\n",
    "```"
   ]
  },
  {
   "cell_type": "markdown",
   "metadata": {},
   "source": [
    "### `Enable Passwords`"
   ]
  },
  {
   "cell_type": "markdown",
   "metadata": {},
   "source": [
    "```bash\n",
    "sudo nano /etc/postgresql/14/main/pg_hba.conf\n",
    "```\n",
    "```ini\n",
    "# find\n",
    "local   all             all                                     peer\n",
    "```\n",
    "```ini\n",
    "# change 'peer' to 'md5'\n",
    "local   all             all                                     md5\n",
    "```\n",
    "Save changes (`CTRL+X`, `Y`, `Enter`)\n",
    "```bash\n",
    "# restart psql\n",
    "sudo service postgresql restart\n",
    "```"
   ]
  },
  {
   "cell_type": "markdown",
   "metadata": {},
   "source": [
    "---"
   ]
  },
  {
   "cell_type": "markdown",
   "metadata": {},
   "source": [
    "## `Login`"
   ]
  },
  {
   "cell_type": "markdown",
   "metadata": {},
   "source": [
    "```bash\n",
    "# if password verification is enabled\n",
    "# you'll be prompted after this command\n",
    "psql -U new_user -d database_name -h localhost\n",
    "```"
   ]
  },
  {
   "cell_type": "markdown",
   "metadata": {},
   "source": [
    "### `Login w/Password`"
   ]
  },
  {
   "cell_type": "markdown",
   "metadata": {},
   "source": [
    "```bash\n",
    "# not secure in a multi user environment\n",
    "PGPASSWORD='your_secure_password' psql -U new_user -d database_name -h localhost\n",
    "```"
   ]
  },
  {
   "cell_type": "markdown",
   "metadata": {},
   "source": [
    "### `.pgpass File`"
   ]
  },
  {
   "cell_type": "markdown",
   "metadata": {},
   "source": [
    "```bash\n",
    "# create or edit\n",
    "nano ~/.pgpass\n",
    "```\n",
    "```ruby\n",
    "# for local setup, add this line\n",
    "localhost:5432:database_name:new_user:your_secure_password\n",
    "# remote setup\n",
    "<host address>:<port>:*:user:password\n",
    "```\n",
    "Save changes (`CTRL+X`, `Y`, `Enter`)"
   ]
  },
  {
   "cell_type": "markdown",
   "metadata": {},
   "source": [
    "***-NOTE-***\n",
    "```sql\n",
    "-- to get host's port number\n",
    "-- in SQL\n",
    "SHOW port;\n",
    "```"
   ]
  },
  {
   "cell_type": "markdown",
   "metadata": {},
   "source": [
    "```bash\n",
    "# set permissions\n",
    "# '600' sets the file to be readable / writeable only by owner\n",
    "chmod 600 ~/.pgpass\n",
    "```\n",
    "```bash\n",
    "# psql will automatically read password from ~/.pgpass\n",
    "psql -U new_user -d database_name -h localhost\n",
    "```"
   ]
  },
  {
   "cell_type": "markdown",
   "metadata": {},
   "source": [
    "---"
   ]
  },
  {
   "cell_type": "markdown",
   "metadata": {},
   "source": [
    "## `Syntax`"
   ]
  },
  {
   "cell_type": "markdown",
   "metadata": {},
   "source": [
    "### `Create`"
   ]
  },
  {
   "cell_type": "markdown",
   "metadata": {},
   "source": [
    "`Database`\n",
    "```sql\n",
    "CREATE DATABASE database_name;\n",
    "```"
   ]
  },
  {
   "cell_type": "markdown",
   "metadata": {},
   "source": [
    "`Schema`\n",
    "```sql\n",
    "CREATE SCHEMA schema_name;\n",
    "```"
   ]
  },
  {
   "cell_type": "markdown",
   "metadata": {},
   "source": [
    "`Table`\n",
    "```sql\n",
    "CREATE TABLE schema_name.table_name (\n",
    "    column1 data_type constraints,\n",
    "    column2 data_type constraints,\n",
    "    ...\n",
    ");\n",
    "```\n",
    "```sql\n",
    "-- EXAMPLE\n",
    "CREATE TABLE my_schema.users (\n",
    "    id SERIAL PRIMARY KEY,\n",
    "    username VARCHAR(50) UNIQUE NOT NULL,\n",
    "    email VARCHAR(100) UNIQUE NOT NULL,\n",
    "    created_at TIMESTAMP DEFAULT CURRENT_TIMESTAMP\n",
    ");\n",
    "```\n",
    "```sql\n",
    "-- EXAMPLE\n",
    "-- WITHOUT SCHEMA (uses 'public' by default)\n",
    "CREATE TABLE users (\n",
    "    id SERIAL PRIMARY KEY,\n",
    "    name TEXT NOT NULL,\n",
    "    age INT CHECK (age > 0)\n",
    ");\n",
    "```"
   ]
  },
  {
   "cell_type": "markdown",
   "metadata": {},
   "source": [
    "\n",
    "### `List`"
   ]
  },
  {
   "cell_type": "markdown",
   "metadata": {},
   "source": [
    "`Databases`\n",
    "```sql\n",
    "\\l\n",
    "```"
   ]
  },
  {
   "cell_type": "markdown",
   "metadata": {},
   "source": [
    "`Schemas`\n",
    "```sql\n",
    "SELECT schema_name FROM information_schema.schemata;\n",
    "```"
   ]
  },
  {
   "cell_type": "markdown",
   "metadata": {},
   "source": [
    "`Tables`\n",
    "```sql\n",
    "SELECT table_name FROM information_schema.tables WHERE table_schema = 'my_schema';\n",
    "```"
   ]
  }
 ],
 "metadata": {
  "language_info": {
   "name": "python"
  }
 },
 "nbformat": 4,
 "nbformat_minor": 2
}
