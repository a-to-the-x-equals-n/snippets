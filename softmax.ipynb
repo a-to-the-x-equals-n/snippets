{
 "cells": [
  {
   "cell_type": "code",
   "execution_count": 9,
   "metadata": {},
   "outputs": [
    {
     "name": "stdout",
     "output_type": "stream",
     "text": [
      "6.3\n",
      "0.005047\n",
      "0.000068\n",
      "0.167121\n",
      "0.827756\n",
      "0.000008\n"
     ]
    }
   ],
   "source": [
    "import math\n",
    "\n",
    "# Given output vector\n",
    "outputs = [1.2, -3.1, 4.7, 6.3, -5.2]\n",
    "\n",
    "# Step 1: Find the maximum value\n",
    "max_val = max(outputs)\n",
    "print(max_val)\n",
    "\n",
    "# Step 2: Compute the exponentials after shifting by max_val to avoid overflow\n",
    "exp_values = [math.exp(x - max_val) for x in outputs]\n",
    "\n",
    "# Step 3: Compute the sum of exponentials\n",
    "sum_exp = sum(exp_values)\n",
    "\n",
    "# Step 4: Compute softmax by dividing each exponential by the sum\n",
    "softmax = [val / sum_exp for val in exp_values]\n",
    "\n",
    "# Print the results with 3-decimal formatting\n",
    "for val in softmax:\n",
    "    print(f\"{val:.6f}\")\n"
   ]
  }
 ],
 "metadata": {
  "kernelspec": {
   "display_name": "Python 3",
   "language": "python",
   "name": "python3"
  },
  "language_info": {
   "codemirror_mode": {
    "name": "ipython",
    "version": 3
   },
   "file_extension": ".py",
   "mimetype": "text/x-python",
   "name": "python",
   "nbconvert_exporter": "python",
   "pygments_lexer": "ipython3",
   "version": "3.10.12"
  }
 },
 "nbformat": 4,
 "nbformat_minor": 2
}
