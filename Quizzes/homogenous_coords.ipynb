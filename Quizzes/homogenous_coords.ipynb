{
 "cells": [
  {
   "cell_type": "code",
   "execution_count": 1,
   "metadata": {},
   "outputs": [],
   "source": [
    "import numpy as np"
   ]
  },
  {
   "cell_type": "markdown",
   "metadata": {},
   "source": [
    "`rotation`\n",
    "---"
   ]
  },
  {
   "cell_type": "code",
   "execution_count": 19,
   "metadata": {},
   "outputs": [],
   "source": [
    "def rotation(point, degree = None, theta = None):\n",
    "\n",
    "    if theta:\n",
    "        rotate = theta\n",
    "    else:\n",
    "        rotate = np.radians(degree)\n",
    "\n",
    "    # R = np.array([[np.cos(rotate), -np.sin(rotate), 0],\n",
    "    #               [np.sin(rotate), np.cos(rotate), 0],\n",
    "    #               [0, 0, 1]], dtype = np.float32)\n",
    "    R = np.array([[np.cos(rotate), -np.sin(rotate)],\n",
    "                  [np.sin(rotate), np.cos(rotate)]], dtype = np.float32)\n",
    "    return R @ point\n"
   ]
  },
  {
   "cell_type": "code",
   "execution_count": 24,
   "metadata": {},
   "outputs": [
    {
     "name": "stdout",
     "output_type": "stream",
     "text": [
      "[[-3.18303108]\n",
      " [ 7.33950377]]\n"
     ]
    }
   ],
   "source": [
    "p = np.array([[8.0],\n",
    "              [0.0]])\n",
    "\n",
    "print(rotation(p, theta = 1.98))"
   ]
  },
  {
   "cell_type": "markdown",
   "metadata": {},
   "source": [
    "`translation`\n",
    "---"
   ]
  },
  {
   "cell_type": "code",
   "execution_count": 6,
   "metadata": {},
   "outputs": [],
   "source": [
    "def translation(p, origin):\n",
    "    return p + origin"
   ]
  },
  {
   "attachments": {
    "image.png": {
     "image/png": "[encoded data removed]"
    }
   },
   "cell_type": "markdown",
   "metadata": {},
   "source": [
    "![image.png](attachment:image.png)"
   ]
  },
  {
   "cell_type": "code",
   "execution_count": 23,
   "metadata": {},
   "outputs": [
    {
     "data": {
      "text/plain": [
       "-34.011431598663336"
      ]
     },
     "execution_count": 23,
     "metadata": {},
     "output_type": "execute_result"
    }
   ],
   "source": [
    "import numpy as np\n",
    "\n",
    "# center of rotation\n",
    "c = np.array([6, -4]) \n",
    "point = np.array([-5.6, 24.1])\n",
    "\n",
    "# Step 1: Translate the point to the origin\n",
    "translated_point = point - c\n",
    "\n",
    "# Step 2: Apply the rotation matrix\n",
    "rotated_point = rotation(translated_point, theta = 2.59)\n",
    "\n",
    "# Step 3: Translate the point back\n",
    "final_point = rotated_point + c\n",
    "\n",
    "# Output the new y-coordinate\n",
    "final_y = final_point[1]\n",
    "final_y\n"
   ]
  },
  {
   "cell_type": "code",
   "execution_count": null,
   "metadata": {},
   "outputs": [],
   "source": [
    "def compose(frame, image, transformation):\n",
    "    \n",
    "    width, height = frame.size\n",
    "    \n",
    "    #Invert matrix for compose function, grab values for Affine Transform\n",
    "    t = np.linalg.inv(transformation)\n",
    "    a=t[0,0]; b=t[0,1]; c=t[0,2]; d=t[1,0]; e=t[1,1]; f=t[1,2]\n",
    "    \n",
    "    image = image.transform((width,height), Image.AFFINE,(a,b,c,d,e,f), Image.BICUBIC)\n",
    "\n",
    "    #Make mask from image's location\n",
    "    im = np.sum(np.asarray(image), -1)\n",
    "    vals = 255.0*( im > 0)\n",
    "    mask = Image.fromarray(vals).convert(\"1\")\n",
    "\n",
    "    #Composite images together\n",
    "    result = Image.composite(image,frame,mask)\n",
    "\n",
    "    return result"
   ]
  },
  {
   "cell_type": "code",
   "execution_count": null,
   "metadata": {},
   "outputs": [],
   "source": [
    "def compose(frame, images, transformations):\n",
    "    \"\"\"\n",
    "    Composite multiple images onto the frame.\n",
    "    \n",
    "    Args:\n",
    "        frame: The background frame (PIL Image).\n",
    "        images: A list of images (PIL Images) to composite onto the frame.\n",
    "        transformations: A list of 3x3 transformation matrices (NumPy arrays) for each image.\n",
    "\n",
    "    Returns:\n",
    "        result: The final composed image (PIL Image).\n",
    "    \"\"\"\n",
    "    width, height = frame.size\n",
    "    \n",
    "    # Iterate over all images and corresponding transformations\n",
    "    for image, transformation in zip(images, transformations):\n",
    "        # Invert matrix for affine transform\n",
    "        t = np.linalg.inv(transformation)\n",
    "        a = t[0,0]; b = t[0,1]; c = t[0,2]\n",
    "        d = t[1,0]; e = t[1,1]; f = t[1,2]\n",
    "        \n",
    "        # Apply the affine transformation to the image\n",
    "        transformed_image = image.transform((width, height), Image.AFFINE, (a, b, c, d, e, f), Image.BICUBIC)\n",
    "        \n",
    "        # Make mask from the transformed image's location\n",
    "        im = np.sum(np.asarray(transformed_image), -1)\n",
    "        vals = 255.0 * (im > 0)\n",
    "        mask = Image.fromarray(vals).convert(\"1\")\n",
    "        \n",
    "        # Composite the transformed image onto the frame\n",
    "        frame = Image.composite(transformed_image, frame, mask)\n",
    "    \n",
    "    return frame"
   ]
  }
 ],
 "metadata": {
  "kernelspec": {
   "display_name": "Python 3",
   "language": "python",
   "name": "python3"
  },
  "language_info": {
   "codemirror_mode": {
    "name": "ipython",
    "version": 3
   },
   "file_extension": ".py",
   "mimetype": "text/x-python",
   "name": "python",
   "nbconvert_exporter": "python",
   "pygments_lexer": "ipython3",
   "version": "3.10.12"
  }
 },
 "nbformat": 4,
 "nbformat_minor": 2
}
