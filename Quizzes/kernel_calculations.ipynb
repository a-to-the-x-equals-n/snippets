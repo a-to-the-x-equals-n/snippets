{
 "cells": [
  {
   "cell_type": "markdown",
   "metadata": {},
   "source": [
    "`Pixelize`\n",
    "---"
   ]
  },
  {
   "cell_type": "markdown",
   "metadata": {},
   "source": [
    "**BROKEN**"
   ]
  },
  {
   "cell_type": "code",
   "execution_count": 1,
   "metadata": {},
   "outputs": [],
   "source": [
    "import numpy as np\n",
    "\n",
    "def convolve_2d(image: np.ndarray, kernel, mode: str = 'constant') -> np.ndarray:\n",
    "    # boundaries for kernel window\n",
    "    kernel_y, kernel_x = kernel.shape\n",
    "    # range for loops\n",
    "    image_y, image_x = image.shape\n",
    "    # dynamic pad sizing based on kernel dimensions\n",
    "    pad_y, pad_x = kernel_y // 2, kernel_x // 2 \n",
    "    # init output matrix \n",
    "    filtered_image = np.zeros_like(a = image, dtype = np.float32) \n",
    "    # add padding                                    \n",
    "    paddded_image = np.pad(array = image, pad_width = (( pad_y, pad_x ), ( pad_x, pad_y )), mode = mode)\n",
    "\n",
    "    # Convolve\n",
    "    for y in range(image_y):\n",
    "        for x in range(image_x):\n",
    "            # Sliding frame\n",
    "            window = paddded_image[ y : y + kernel_y, x : x + kernel_x ]\n",
    "            # Apply filter\n",
    "            filtered_image[ y, x ] = np.sum(window * kernel)\n",
    "    return filtered_image\n",
    "\n",
    "def convolve_3d(image: np.ndarray, kernel, mode: str = 'constant') -> np.ndarray:\n",
    "    # boundaries for kernel window\n",
    "    kernel_y, kernel_x, _ = kernel.shape\n",
    "    # range for loops\n",
    "    image_y, image_x, _ = image.shape\n",
    "    # dynamic pad sizing based on kernel dimensions\n",
    "    pad_y, pad_x = kernel_y // 2, kernel_x // 2 \n",
    "    # init output matrix \n",
    "    filtered_image = np.zeros_like(a = image, dtype = np.float32) \n",
    "    # add padding                                    \n",
    "    paddded_image = np.pad(array = image, pad_width = (( pad_y, pad_y ), ( pad_x, pad_x ), (0, 0)), mode = mode)\n",
    "\n",
    "    # Convolve\n",
    "    for y in range(image_y):\n",
    "        for x in range(image_x):\n",
    "            # Sliding frame\n",
    "            window = paddded_image[ y : y + kernel_y, x : x + kernel_x ]\n",
    "            # Apply filter\n",
    "            filtered_image[ y, x ] = np.sum(window * kernel, axis = (0, 1))\n",
    "    return filtered_image\n",
    "\n",
    "def convolve(image: np.ndarray, kernel: np.ndarray, mode: str = 'constant') -> np.ndarray:\n",
    "    if isinstance(kernel, np.matrix):\n",
    "        kernel = np.array(object = kernel, dtype = np.float32)\n",
    "\n",
    "    # 2D or 3D\n",
    "    if image.ndim == 2:\n",
    "        return convolve_2d(image, kernel, mode)\n",
    "    else:\n",
    "        return convolve_3d(image, kernel, mode)\n",
    "    \n",
    "\n",
    "def pixelize(image: np.ndarray, bit: int = 64) -> np.ndarray:\n",
    "    # dynamicaly handle arg 'kernel': matrix or size\n",
    "    pixel_kernel = np.ones(shape = (bit, bit), dtype = np.float32) / bit**2\n",
    "\n",
    "    if image.ndim == 3:  # Color image\n",
    "        pixel_kernel = np.expand_dims(pixel_kernel, axis=-1)\n",
    "\n",
    "    return convolve(image, pixel_kernel, 'mean') "
   ]
  },
  {
   "cell_type": "markdown",
   "metadata": {},
   "source": [
    "`Mean Filter`\n",
    "---"
   ]
  },
  {
   "cell_type": "code",
   "execution_count": 54,
   "metadata": {},
   "outputs": [
    {
     "name": "stdout",
     "output_type": "stream",
     "text": [
      "[[ 4.3333335  6.3333335 10.        13.222221  11.222221 ]\n",
      " [16.333334  19.333334  24.666666  19.666666  16.666666 ]\n",
      " [16.444445  19.777777  24.777777  19.777779  16.444445 ]\n",
      " [16.777777  20.11111   24.444445  19.000002  15.666667 ]\n",
      " [ 4.7777777  7.111111   9.777778  12.555555  10.222222 ]]\n"
     ]
    }
   ],
   "source": [
    "import numpy as np\n",
    "\n",
    "def mean_filter(image, size = 3):\n",
    "\n",
    "    image_y, image_x = image.shape\n",
    "    padded_image = np.pad(array = image, pad_width = (size // 2), mode = 'constant', constant_values = 0)\n",
    "    filtered_image = np.zeros_like(a = image, dtype = np.float32)\n",
    "    kernel = np.ones(shape = (size, size), dtype = np.float32) / (size**2)\n",
    "\n",
    "    # Slicing out the 3x3 regions\n",
    "    # Get all 3x3 regions at once using advanced slicing\n",
    "    for y in range(size):\n",
    "        for x in range(size):\n",
    "            # Add each of the 3x3 shifted slices to the output\n",
    "            filtered_image += padded_image[ y : y + image_y, x : x + image_x] * kernel[ y, x]\n",
    "\n",
    "    return filtered_image\n",
    "\n",
    "matrix = np.array([[10, 11, 9, 25, 22],\n",
    "                   [8, 10, 9, 26, 28],\n",
    "                   [9, 99, 9, 24, 25],\n",
    "                   [11, 11, 12, 23, 22],\n",
    "                   [10, 11, 9, 22, 25]], dtype = np.float32)\n",
    "\n",
    "print(mean_filter(matrix))  "
   ]
  },
  {
   "cell_type": "markdown",
   "metadata": {},
   "source": [
    "`Median Filter`\n",
    "---"
   ]
  },
  {
   "cell_type": "code",
   "execution_count": 52,
   "metadata": {},
   "outputs": [
    {
     "name": "stdout",
     "output_type": "stream",
     "text": [
      "[[ 0.  9.  9.  9.  0.]\n",
      " [ 9.  9. 11. 24. 24.]\n",
      " [ 9. 10. 12. 23. 23.]\n",
      " [10. 11. 12. 22. 22.]\n",
      " [ 0. 10. 11. 12.  0.]]\n"
     ]
    }
   ],
   "source": [
    "import numpy as np\n",
    "from numpy.typing import ArrayLike\n",
    "\n",
    "def median_filter(image: np.ndarray, kernel_size: ArrayLike) -> np.ndarray:\n",
    "\n",
    "    # range for loops\n",
    "    image_y, image_x = image.shape \n",
    "\n",
    "    # init output matrix \n",
    "    filtered_image = np.zeros_like(a = image, dtype = np.float32) \n",
    "\n",
    "    # add padding                                    \n",
    "    paddded_image = np.pad(array = image, pad_width = (kernel_size // 2) , mode = 'constant', constant_values = 0)\n",
    "\n",
    "    for y in range(image_y):\n",
    "        for x in range(image_x):\n",
    "            # sliding window\n",
    "            window = paddded_image[ y : y + kernel_size, x : x + kernel_size ]\n",
    "            # apply median filter\n",
    "            filtered_image[ y, x ] = np.median(window)\n",
    "    \n",
    "    return filtered_image\n",
    "\n",
    "matrix = np.array([[10, 11, 9, 25, 22],\n",
    "                   [8, 10, 9, 26, 28],\n",
    "                   [9, 99, 9, 24, 25],\n",
    "                   [11, 11, 12, 23, 22],\n",
    "                   [10, 11, 9, 22, 25]], dtype = np.float32)\n",
    "\n",
    "print(median_filter(matrix)) "
   ]
  },
  {
   "cell_type": "markdown",
   "metadata": {},
   "source": [
    "`Convolve`\n",
    "---"
   ]
  },
  {
   "cell_type": "code",
   "execution_count": 1,
   "metadata": {},
   "outputs": [
    {
     "name": "stdout",
     "output_type": "stream",
     "text": [
      "[[ 6.4       10.5       13.400001  14.600001  11.       ]\n",
      " [ 8.2       14.8       18.4       21.1       15.700001 ]\n",
      " [ 8.        13.700001  17.800001  23.5       18.900002 ]\n",
      " [ 7.8999996 12.800001  15.7       22.1       21.2      ]\n",
      " [ 5.9        8.6       10.        15.5       13.4      ]]\n"
     ]
    }
   ],
   "source": [
    "import numpy as np\n",
    "\n",
    "def convolve_2d(image: np.ndarray, kernel, mode: str = 'constant') -> np.ndarray:\n",
    "    # boundaries for kernel window\n",
    "    kernel_y, kernel_x = kernel.shape\n",
    "    # range for loops\n",
    "    image_y, image_x = image.shape\n",
    "    # dynamic pad sizing based on kernel dimensions\n",
    "    pad_y, pad_x = kernel_y // 2, kernel_x // 2 \n",
    "    # init output matrix \n",
    "    filtered_image = np.zeros_like(a = image, dtype = np.float32) \n",
    "    # add padding                                    \n",
    "    paddded_image = np.pad(array = image, pad_width = (( pad_y, pad_x ), ( pad_x, pad_y )), mode = mode)\n",
    "\n",
    "    # Convolve\n",
    "    for y in range(image_y):\n",
    "        for x in range(image_x):\n",
    "            # Sliding frame\n",
    "            window = paddded_image[ y : y + kernel_y, x : x + kernel_x ]\n",
    "            # Apply filter\n",
    "            filtered_image[ y, x ] = np.sum(window * kernel)\n",
    "    return filtered_image\n",
    "\n",
    "def convolve_3d(image: np.ndarray, kernel, mode: str = 'constant') -> np.ndarray:\n",
    "    # boundaries for kernel window\n",
    "    kernel_y, kernel_x, _ = kernel.shape\n",
    "    # range for loops\n",
    "    image_y, image_x, _ = image.shape\n",
    "    # dynamic pad sizing based on kernel dimensions\n",
    "    pad_y, pad_x = kernel_y // 2, kernel_x // 2 \n",
    "    # init output matrix \n",
    "    filtered_image = np.zeros_like(a = image, dtype = np.float32) \n",
    "    # add padding                                    \n",
    "    paddded_image = np.pad(array = image, pad_width = (( pad_y, pad_y ), ( pad_x, pad_x ), (0, 0)), mode = mode)\n",
    "\n",
    "    # Convolve\n",
    "    for y in range(image_y):\n",
    "        for x in range(image_x):\n",
    "            # Sliding frame\n",
    "            window = paddded_image[ y : y + kernel_y, x : x + kernel_x ]\n",
    "            # Apply filter\n",
    "            filtered_image[ y, x ] = np.sum(window * kernel, axis = (0, 1))\n",
    "    return filtered_image\n",
    "\n",
    "def convolve(image: np.ndarray, kernel: np.ndarray, mode: str = 'constant') -> np.ndarray:\n",
    "    if isinstance(kernel, np.matrix):\n",
    "        kernel = np.array(object = kernel, dtype = np.float32)\n",
    "\n",
    "    # 2D or 3D\n",
    "    if image.ndim == 2:\n",
    "        return convolve_2d(image, kernel, mode)\n",
    "    else:\n",
    "        return convolve_3d(image, kernel, mode)\n",
    "\n",
    "\n",
    "matrix = np.array([[10, 11, 9, 25, 22],\n",
    "                   [8, 10, 9, 26, 28],\n",
    "                   [9, 99, 9, 24, 25],\n",
    "                   [11, 11, 12, 23, 22],\n",
    "                   [10, 11, 9, 22, 25]], dtype = np.float32)\n",
    "\n",
    "array = np.array([[11, 15, 20, 21, 22],\n",
    "                  [8, 19, 17, 22, 23],\n",
    "                  [7, 14, 18, 21, 25],\n",
    "                  [10, 15, 15, 19, 54],\n",
    "                  [11, 12, 11, 17, 22]], dtype = np.float32)\n",
    "kernel = np.array([[1, 1, 1],\n",
    "                   [1, 2, 1],\n",
    "                   [1, 1, 1]], dtype=np.float32) # Gaussian blur kernel\n",
    "\n",
    "kernel /= np.sum(kernel) # Normalise kernel\n",
    "array /= 255.0\n",
    "print(convolve(array, kernel))\n"
   ]
  }
 ],
 "metadata": {
  "kernelspec": {
   "display_name": "Python 3",
   "language": "python",
   "name": "python3"
  },
  "language_info": {
   "codemirror_mode": {
    "name": "ipython",
    "version": 3
   },
   "file_extension": ".py",
   "mimetype": "text/x-python",
   "name": "python",
   "nbconvert_exporter": "python",
   "pygments_lexer": "ipython3",
   "version": "3.10.12"
  }
 },
 "nbformat": 4,
 "nbformat_minor": 2
}
