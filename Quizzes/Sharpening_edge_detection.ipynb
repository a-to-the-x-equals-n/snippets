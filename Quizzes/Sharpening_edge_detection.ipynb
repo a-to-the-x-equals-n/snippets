{
 "cells": [
  {
   "cell_type": "markdown",
   "metadata": {},
   "source": [
    "`Unsharp Masking`\n",
    "---"
   ]
  },
  {
   "cell_type": "markdown",
   "metadata": {},
   "source": [
    "---"
   ]
  },
  {
   "cell_type": "code",
   "execution_count": 2,
   "metadata": {},
   "outputs": [
    {
     "name": "stdout",
     "output_type": "stream",
     "text": [
      "[[31. 26.  0. 68. 57.]\n",
      " [11. 14.  0. 44. 67.]\n",
      " [18.  1.  0. 37. 51.]\n",
      " [25. 13.  8. 35. 37.]\n",
      " [28. 25.  0. 53. 81.]]\n"
     ]
    }
   ],
   "source": [
    "import numpy as np\n",
    "\n",
    "def convolve(image: np.ndarray, kernel: np.ndarray) -> np.ndarray:\n",
    "    # boundaries for kernel window\n",
    "    kernel_x: int\n",
    "    kernel_y: int\n",
    "    kernel_y, kernel_x = kernel.shape\n",
    "\n",
    "    # range for loops\n",
    "    image_y: int\n",
    "    image_x: int\n",
    "    image_y, image_x = image.shape\n",
    "\n",
    "    # dynamic pad sizing based on kernel dimensions\n",
    "    pad_y: int\n",
    "    pad_x: int\n",
    "    pad_y, pad_x = kernel_y // 2, kernel_x // 2 \n",
    "\n",
    "\n",
    "    filtered_image: np.ndarray # init output matrix\n",
    "    paddded_image: np.ndarray\n",
    "    window: np.ndarray # sliding frame\n",
    "    filtered_image = np.zeros_like(a = image, dtype = np.float32)                                         \n",
    "    paddded_image = np.pad(array = image, pad_width = (( pad_y, pad_x ), ( pad_x, pad_y )), mode = 'constant', constant_values = 0)\n",
    "\n",
    "    # Convolve\n",
    "    for y in range(image_y):\n",
    "        for x in range(image_x):\n",
    "            # Sliding window\n",
    "            window = paddded_image[ y : y + kernel_y, x : x + kernel_x ]\n",
    "            # Apply mask\n",
    "            filtered_image[ y, x ] = np.sum(window * kernel)\n",
    "\n",
    "    return filtered_image\n",
    "\n",
    "\n",
    "def unsharp_mask(image: np.ndarray, A: int | float = 1):\n",
    "\n",
    "    unsharp_kernel: np.ndarray = np.array([[0, -1, 0],\n",
    "                                           [-1, (A + 4), -1],\n",
    "                                           [0, -1, 0]], dtype=np.float32)\n",
    "    unsharp_kernel /= A\n",
    "\n",
    "    unsharp_image: np.ndarray = convolve(image, unsharp_kernel)\n",
    "    return (unsharp_image := np.clip(unsharp_image, 0, 255))\n",
    "\n",
    "\n",
    "matrix = np.array([[10, 11, 9, 25, 22],\n",
    "                   [8, 10, 9, 26, 28],\n",
    "                   [9, 8, 9, 24, 25],\n",
    "                   [11, 11, 12, 23, 22],\n",
    "                   [10, 11, 9, 22, 25]], dtype = np.float32)\n",
    "\n",
    "\n",
    "print(unsharp_mask(matrix, A = 1))\n",
    "\n"
   ]
  },
  {
   "cell_type": "markdown",
   "metadata": {},
   "source": [
    "`Sobel`\n",
    "---"
   ]
  },
  {
   "cell_type": "markdown",
   "metadata": {},
   "source": [
    "---"
   ]
  },
  {
   "cell_type": "code",
   "execution_count": 34,
   "metadata": {},
   "outputs": [
    {
     "name": "stdout",
     "output_type": "stream",
     "text": [
      "[[  3.25    4.625   6.75   11.125  10.25 ]\n",
      " [ -0.625  -0.875  -0.5     0.125   0.625]\n",
      " [  0.875   1.      0.5    -1.125  -1.875]\n",
      " [  0.625   0.875   0.125  -0.5    -0.25 ]\n",
      " [ -4.125  -5.625  -7.25  -10.     -8.375]]\n"
     ]
    }
   ],
   "source": [
    "import numpy as np\n",
    "\n",
    "def convolve(image: np.ndarray, kernel: np.ndarray) -> np.ndarray:\n",
    "\n",
    "    kernel_y, kernel_x = kernel.shape\n",
    "    image_y, image_x = image.shape\n",
    "    pad_y, pad_x = kernel_y // 2, kernel_x // 2 # Pad size based on kernel dimensions\n",
    "\n",
    "    filtered_image = np.zeros_like(a = image, dtype = np.float32)\n",
    "    paddded_image = np.pad(array = image, pad_width = (( pad_y, pad_x ), ( pad_x, pad_y )), mode = 'constant', constant_values = 0)\n",
    "\n",
    "    # Convolve\n",
    "    for y in range(image_y):\n",
    "        for x in range(image_x):\n",
    "            # Sliding window\n",
    "            window = paddded_image[ y : y + kernel_y, x : x + kernel_x ]\n",
    "            # Apply filters\n",
    "            filtered_image[ y, x ] = np.sum(window * kernel)\n",
    "\n",
    "    return filtered_image.astype(dtype = np.float32)\n",
    "\n",
    "\n",
    "def sobel_filter(image: np.ndarray, axis: str | None = None, div: int | float = 1) -> np.ndarray:\n",
    "    # Sobel x kernel\n",
    "    sobel = np.array([[-1, 0, 1],\n",
    "                       [-2, 0, 2],\n",
    "                       [-1, 0, 1]], dtype = np.float32)\n",
    "    \n",
    "    if axis == 'y':\n",
    "        sobel = sobel.T\n",
    "\n",
    "    filtered_image = convolve(image, sobel)\n",
    "    filtered_image /= div\n",
    "\n",
    "    return filtered_image\n",
    "\n",
    "\n",
    "image = np.array([[10, 11, 9, 25, 22],\n",
    "                   [8, 10, 9, 26, 28],\n",
    "                   [9, 8, 9, 24, 25],\n",
    "                   [11, 11, 12, 23, 22],\n",
    "                   [10, 11, 9, 22, 25]], dtype = np.float32)\n",
    "\n",
    "print(sobel_filter(image = image, axis = 'y', div = 8))\n",
    "# print(sobel_filter(image = image, div = 8))"
   ]
  },
  {
   "cell_type": "markdown",
   "metadata": {},
   "source": [
    "`Gradient Magnitude`\n",
    "---"
   ]
  },
  {
   "cell_type": "markdown",
   "metadata": {},
   "source": [
    "---"
   ]
  },
  {
   "cell_type": "code",
   "execution_count": 2,
   "metadata": {},
   "outputs": [
    {
     "name": "stdout",
     "output_type": "stream",
     "text": [
      "[[ 7.5270348  8.567745   9.560661  10.574143  11.672618 ]\n",
      " [ 8.450222   4.854122   2.4558604  2.6279745 10.776131 ]\n",
      " [ 7.75       4.609772   2.9633174  7.9155703 12.72915  ]\n",
      " [ 7.040064   2.766993   3.535534  12.209115   9.581884 ]\n",
      " [ 6.5502863  6.903351   8.18917   15.39582   17.201925 ]]\n"
     ]
    }
   ],
   "source": [
    "import numpy as np\n",
    "\n",
    "def convolve(image: np.ndarray, kernel: np.ndarray) -> np.ndarray:\n",
    "\n",
    "    kernel_y, kernel_x = kernel.shape\n",
    "    image_y, image_x = image.shape\n",
    "    pad_y, pad_x = kernel_y // 2, kernel_x // 2 # Pad size based on kernel dimensions\n",
    "\n",
    "    filtered_image = np.zeros_like(a = image, dtype = np.float32)\n",
    "    paddded_image = np.pad(array = image, pad_width = (( pad_y, pad_x ), ( pad_x, pad_y )), mode = 'constant', constant_values = 0)\n",
    "\n",
    "    # Convolve\n",
    "    for y in range(image_y):\n",
    "        for x in range(image_x):\n",
    "            # Sliding window\n",
    "            window = paddded_image[ y : y + kernel_y, x : x + kernel_x ]\n",
    "            # Apply filters\n",
    "            filtered_image[ y, x ] = np.sum(window * kernel)\n",
    "\n",
    "    return filtered_image.astype(dtype = np.float32)\n",
    "\n",
    "\n",
    "def sobel_filter(image: np.ndarray, axis: str | None = None, div: int | float = 1) -> np.ndarray:\n",
    "    # Sobel kernel\n",
    "    sobel = np.array([[-1, 0, 1],\n",
    "                       [-2, 0, 2],\n",
    "                       [-1, 0, 1]], dtype = np.float32)\n",
    "    \n",
    "    if axis == 'y':\n",
    "        sobel = sobel.T\n",
    "\n",
    "    filtered_image = convolve(image, sobel)\n",
    "    filtered_image /= div\n",
    "\n",
    "    return filtered_image\n",
    "\n",
    "\n",
    "def gradient_magnitude(image: np.ndarray) -> np.ndarray:\n",
    "\n",
    "    g_x, g_y = sobel_filter(image, div = 8), sobel_filter(image, axis = 'y', div = 8)\n",
    "    return (g_magnitude := np.sqrt(g_x**2 + g_y**2))\n",
    "\n",
    "array = np.array([[11, 15, 20, 21, 22],\n",
    "                  [8, 19, 17, 22, 23],\n",
    "                  [7, 14, 18, 21, 25],\n",
    "                  [10, 15, 15, 19, 54],\n",
    "                  [11, 12, 11, 17, 22]], dtype = np.float32)\n",
    "\n",
    "\n",
    "print(gradient_magnitude(array))"
   ]
  }
 ],
 "metadata": {
  "kernelspec": {
   "display_name": "Python 3",
   "language": "python",
   "name": "python3"
  },
  "language_info": {
   "codemirror_mode": {
    "name": "ipython",
    "version": 3
   },
   "file_extension": ".py",
   "mimetype": "text/x-python",
   "name": "python",
   "nbconvert_exporter": "python",
   "pygments_lexer": "ipython3",
   "version": "3.10.12"
  }
 },
 "nbformat": 4,
 "nbformat_minor": 2
}
